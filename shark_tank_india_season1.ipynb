{
  "nbformat": 4,
  "nbformat_minor": 0,
  "metadata": {
    "colab": {
      "name": "shark_tank_india_season1.ipynb",
      "provenance": [],
      "collapsed_sections": []
    },
    "kernelspec": {
      "name": "python3",
      "display_name": "Python 3"
    },
    "language_info": {
      "name": "python"
    }
  },
  "cells": [
    {
      "cell_type": "code",
      "execution_count": 1,
      "metadata": {
        "id": "PxgO4c0UNPSH"
      },
      "outputs": [],
      "source": [
        "import numpy as np\n",
        "import pandas as pd\n",
        "import matplotlib.pyplot as plt\n",
        "import seaborn as sns\n",
        "import warnings\n",
        "warnings.filterwarnings('ignore')\n"
      ]
    },
    {
      "cell_type": "code",
      "source": [
        "data=pd.read_csv(\"Shark_Tank_India_Season_1.csv\")"
      ],
      "metadata": {
        "id": "XJqyv9u9N-G4"
      },
      "execution_count": 2,
      "outputs": []
    },
    {
      "cell_type": "code",
      "source": [
        "data"
      ],
      "metadata": {
        "colab": {
          "base_uri": "https://localhost:8080/",
          "height": 748
        },
        "id": "s2S_bDMTO6_u",
        "outputId": "bc90b3bf-1620-437b-bb26-65a20e240181"
      },
      "execution_count": 3,
      "outputs": [
        {
          "output_type": "execute_result",
          "data": {
            "text/plain": [
              "     episode_number  startup_number           brand_name  \\\n",
              "0                 1               1  BluePine Industries   \n",
              "1                 1               2        Booz scooters   \n",
              "2                 1               3  Heart up my Sleeves   \n",
              "3                 2               4           Tagz Foods   \n",
              "4                 2               5       Head and Heart   \n",
              "..              ...             ...                  ...   \n",
              "116              35             117         Elcare India   \n",
              "117              36             118             Sneakare   \n",
              "118              36             119         French Crown   \n",
              "119              36             120       Store My Goods   \n",
              "120              36             121             Devnagri   \n",
              "\n",
              "                                       description  deal_offered  \\\n",
              "0                                     Frozen Momos             1   \n",
              "1    Renting e-bike for mobility in private spaces             1   \n",
              "2                               Detachable Sleeves             1   \n",
              "3                             Healthy Potato Chips             1   \n",
              "4                         Brain Development Course             0   \n",
              "..                                             ...           ...   \n",
              "116                           Carenting for Elders             0   \n",
              "117                Shoe care and storage solutions             1   \n",
              "118                              Clothing Industry             0   \n",
              "119                              Storage solutions             1   \n",
              "120                           Translation platform             0   \n",
              "\n",
              "     startup_ask_amount_lakhs  startup_ask_percentage  startup_ask_valuation  \\\n",
              "0                        50.0                    5.00                1000.00   \n",
              "1                        40.0                   15.00                 266.67   \n",
              "2                        25.0                   10.00                 250.00   \n",
              "3                        70.0                    1.00                7000.00   \n",
              "4                        50.0                    5.00                1000.00   \n",
              "..                        ...                     ...                    ...   \n",
              "116                     100.0                    2.50                4000.00   \n",
              "117                      20.0                    5.00                 400.00   \n",
              "118                     150.0                    0.33               45000.00   \n",
              "119                     100.0                    1.75                5714.00   \n",
              "120                     100.0                    1.00               10000.00   \n",
              "\n",
              "     deal_amount_lakhs  deal_equity  ...  ghazal_invested  namita_present  \\\n",
              "0                 75.0        16.00  ...                0               1   \n",
              "1                 40.0        50.00  ...                0               1   \n",
              "2                 25.0        30.00  ...                0               1   \n",
              "3                 70.0         2.75  ...                0               1   \n",
              "4                  0.0         0.00  ...                0               1   \n",
              "..                 ...          ...  ...              ...             ...   \n",
              "116                0.0         0.00  ...                0               1   \n",
              "117               21.0        12.00  ...                0               1   \n",
              "118                0.0         0.00  ...                0               1   \n",
              "119              100.0         4.00  ...                0               1   \n",
              "120                0.0         0.00  ...                0               1   \n",
              "\n",
              "     namita_invested  peyush_present  peyush_invested  vineeta_present  \\\n",
              "0                  0               0                0                1   \n",
              "1                  0               0                0                1   \n",
              "2                  0               0                0                1   \n",
              "3                  0               0                0                1   \n",
              "4                  0               0                0                1   \n",
              "..               ...             ...              ...              ...   \n",
              "116                0               1                0                1   \n",
              "117                1               1                0                1   \n",
              "118                0               1                0                1   \n",
              "119                1               1                1                1   \n",
              "120                0               1                0                1   \n",
              "\n",
              "     vineeta_invested  sharks_offering  amount_per_shark  equity_per_shark  \n",
              "0                   1                3              25.0          5.333333  \n",
              "1                   1                2              20.0         25.000000  \n",
              "2                   1                2              12.5         15.000000  \n",
              "3                   0                1              70.0          2.750000  \n",
              "4                   0                0               0.0          0.000000  \n",
              "..                ...              ...               ...               ...  \n",
              "116                 0                0               0.0          0.000000  \n",
              "117                 1                3               7.0          4.000000  \n",
              "118                 0                0               0.0          0.000000  \n",
              "119                 0                2              50.0          2.000000  \n",
              "120                 0                0               0.0          0.000000  \n",
              "\n",
              "[121 rows x 32 columns]"
            ],
            "text/html": [
              "\n",
              "  <div id=\"df-45077597-fc97-466c-81e2-55e5a0d1db6f\">\n",
              "    <div class=\"colab-df-container\">\n",
              "      <div>\n",
              "<style scoped>\n",
              "    .dataframe tbody tr th:only-of-type {\n",
              "        vertical-align: middle;\n",
              "    }\n",
              "\n",
              "    .dataframe tbody tr th {\n",
              "        vertical-align: top;\n",
              "    }\n",
              "\n",
              "    .dataframe thead th {\n",
              "        text-align: right;\n",
              "    }\n",
              "</style>\n",
              "<table border=\"1\" class=\"dataframe\">\n",
              "  <thead>\n",
              "    <tr style=\"text-align: right;\">\n",
              "      <th></th>\n",
              "      <th>episode_number</th>\n",
              "      <th>startup_number</th>\n",
              "      <th>brand_name</th>\n",
              "      <th>description</th>\n",
              "      <th>deal_offered</th>\n",
              "      <th>startup_ask_amount_lakhs</th>\n",
              "      <th>startup_ask_percentage</th>\n",
              "      <th>startup_ask_valuation</th>\n",
              "      <th>deal_amount_lakhs</th>\n",
              "      <th>deal_equity</th>\n",
              "      <th>...</th>\n",
              "      <th>ghazal_invested</th>\n",
              "      <th>namita_present</th>\n",
              "      <th>namita_invested</th>\n",
              "      <th>peyush_present</th>\n",
              "      <th>peyush_invested</th>\n",
              "      <th>vineeta_present</th>\n",
              "      <th>vineeta_invested</th>\n",
              "      <th>sharks_offering</th>\n",
              "      <th>amount_per_shark</th>\n",
              "      <th>equity_per_shark</th>\n",
              "    </tr>\n",
              "  </thead>\n",
              "  <tbody>\n",
              "    <tr>\n",
              "      <th>0</th>\n",
              "      <td>1</td>\n",
              "      <td>1</td>\n",
              "      <td>BluePine Industries</td>\n",
              "      <td>Frozen Momos</td>\n",
              "      <td>1</td>\n",
              "      <td>50.0</td>\n",
              "      <td>5.00</td>\n",
              "      <td>1000.00</td>\n",
              "      <td>75.0</td>\n",
              "      <td>16.00</td>\n",
              "      <td>...</td>\n",
              "      <td>0</td>\n",
              "      <td>1</td>\n",
              "      <td>0</td>\n",
              "      <td>0</td>\n",
              "      <td>0</td>\n",
              "      <td>1</td>\n",
              "      <td>1</td>\n",
              "      <td>3</td>\n",
              "      <td>25.0</td>\n",
              "      <td>5.333333</td>\n",
              "    </tr>\n",
              "    <tr>\n",
              "      <th>1</th>\n",
              "      <td>1</td>\n",
              "      <td>2</td>\n",
              "      <td>Booz scooters</td>\n",
              "      <td>Renting e-bike for mobility in private spaces</td>\n",
              "      <td>1</td>\n",
              "      <td>40.0</td>\n",
              "      <td>15.00</td>\n",
              "      <td>266.67</td>\n",
              "      <td>40.0</td>\n",
              "      <td>50.00</td>\n",
              "      <td>...</td>\n",
              "      <td>0</td>\n",
              "      <td>1</td>\n",
              "      <td>0</td>\n",
              "      <td>0</td>\n",
              "      <td>0</td>\n",
              "      <td>1</td>\n",
              "      <td>1</td>\n",
              "      <td>2</td>\n",
              "      <td>20.0</td>\n",
              "      <td>25.000000</td>\n",
              "    </tr>\n",
              "    <tr>\n",
              "      <th>2</th>\n",
              "      <td>1</td>\n",
              "      <td>3</td>\n",
              "      <td>Heart up my Sleeves</td>\n",
              "      <td>Detachable Sleeves</td>\n",
              "      <td>1</td>\n",
              "      <td>25.0</td>\n",
              "      <td>10.00</td>\n",
              "      <td>250.00</td>\n",
              "      <td>25.0</td>\n",
              "      <td>30.00</td>\n",
              "      <td>...</td>\n",
              "      <td>0</td>\n",
              "      <td>1</td>\n",
              "      <td>0</td>\n",
              "      <td>0</td>\n",
              "      <td>0</td>\n",
              "      <td>1</td>\n",
              "      <td>1</td>\n",
              "      <td>2</td>\n",
              "      <td>12.5</td>\n",
              "      <td>15.000000</td>\n",
              "    </tr>\n",
              "    <tr>\n",
              "      <th>3</th>\n",
              "      <td>2</td>\n",
              "      <td>4</td>\n",
              "      <td>Tagz Foods</td>\n",
              "      <td>Healthy Potato Chips</td>\n",
              "      <td>1</td>\n",
              "      <td>70.0</td>\n",
              "      <td>1.00</td>\n",
              "      <td>7000.00</td>\n",
              "      <td>70.0</td>\n",
              "      <td>2.75</td>\n",
              "      <td>...</td>\n",
              "      <td>0</td>\n",
              "      <td>1</td>\n",
              "      <td>0</td>\n",
              "      <td>0</td>\n",
              "      <td>0</td>\n",
              "      <td>1</td>\n",
              "      <td>0</td>\n",
              "      <td>1</td>\n",
              "      <td>70.0</td>\n",
              "      <td>2.750000</td>\n",
              "    </tr>\n",
              "    <tr>\n",
              "      <th>4</th>\n",
              "      <td>2</td>\n",
              "      <td>5</td>\n",
              "      <td>Head and Heart</td>\n",
              "      <td>Brain Development Course</td>\n",
              "      <td>0</td>\n",
              "      <td>50.0</td>\n",
              "      <td>5.00</td>\n",
              "      <td>1000.00</td>\n",
              "      <td>0.0</td>\n",
              "      <td>0.00</td>\n",
              "      <td>...</td>\n",
              "      <td>0</td>\n",
              "      <td>1</td>\n",
              "      <td>0</td>\n",
              "      <td>0</td>\n",
              "      <td>0</td>\n",
              "      <td>1</td>\n",
              "      <td>0</td>\n",
              "      <td>0</td>\n",
              "      <td>0.0</td>\n",
              "      <td>0.000000</td>\n",
              "    </tr>\n",
              "    <tr>\n",
              "      <th>...</th>\n",
              "      <td>...</td>\n",
              "      <td>...</td>\n",
              "      <td>...</td>\n",
              "      <td>...</td>\n",
              "      <td>...</td>\n",
              "      <td>...</td>\n",
              "      <td>...</td>\n",
              "      <td>...</td>\n",
              "      <td>...</td>\n",
              "      <td>...</td>\n",
              "      <td>...</td>\n",
              "      <td>...</td>\n",
              "      <td>...</td>\n",
              "      <td>...</td>\n",
              "      <td>...</td>\n",
              "      <td>...</td>\n",
              "      <td>...</td>\n",
              "      <td>...</td>\n",
              "      <td>...</td>\n",
              "      <td>...</td>\n",
              "      <td>...</td>\n",
              "    </tr>\n",
              "    <tr>\n",
              "      <th>116</th>\n",
              "      <td>35</td>\n",
              "      <td>117</td>\n",
              "      <td>Elcare India</td>\n",
              "      <td>Carenting for Elders</td>\n",
              "      <td>0</td>\n",
              "      <td>100.0</td>\n",
              "      <td>2.50</td>\n",
              "      <td>4000.00</td>\n",
              "      <td>0.0</td>\n",
              "      <td>0.00</td>\n",
              "      <td>...</td>\n",
              "      <td>0</td>\n",
              "      <td>1</td>\n",
              "      <td>0</td>\n",
              "      <td>1</td>\n",
              "      <td>0</td>\n",
              "      <td>1</td>\n",
              "      <td>0</td>\n",
              "      <td>0</td>\n",
              "      <td>0.0</td>\n",
              "      <td>0.000000</td>\n",
              "    </tr>\n",
              "    <tr>\n",
              "      <th>117</th>\n",
              "      <td>36</td>\n",
              "      <td>118</td>\n",
              "      <td>Sneakare</td>\n",
              "      <td>Shoe care and storage solutions</td>\n",
              "      <td>1</td>\n",
              "      <td>20.0</td>\n",
              "      <td>5.00</td>\n",
              "      <td>400.00</td>\n",
              "      <td>21.0</td>\n",
              "      <td>12.00</td>\n",
              "      <td>...</td>\n",
              "      <td>0</td>\n",
              "      <td>1</td>\n",
              "      <td>1</td>\n",
              "      <td>1</td>\n",
              "      <td>0</td>\n",
              "      <td>1</td>\n",
              "      <td>1</td>\n",
              "      <td>3</td>\n",
              "      <td>7.0</td>\n",
              "      <td>4.000000</td>\n",
              "    </tr>\n",
              "    <tr>\n",
              "      <th>118</th>\n",
              "      <td>36</td>\n",
              "      <td>119</td>\n",
              "      <td>French Crown</td>\n",
              "      <td>Clothing Industry</td>\n",
              "      <td>0</td>\n",
              "      <td>150.0</td>\n",
              "      <td>0.33</td>\n",
              "      <td>45000.00</td>\n",
              "      <td>0.0</td>\n",
              "      <td>0.00</td>\n",
              "      <td>...</td>\n",
              "      <td>0</td>\n",
              "      <td>1</td>\n",
              "      <td>0</td>\n",
              "      <td>1</td>\n",
              "      <td>0</td>\n",
              "      <td>1</td>\n",
              "      <td>0</td>\n",
              "      <td>0</td>\n",
              "      <td>0.0</td>\n",
              "      <td>0.000000</td>\n",
              "    </tr>\n",
              "    <tr>\n",
              "      <th>119</th>\n",
              "      <td>36</td>\n",
              "      <td>120</td>\n",
              "      <td>Store My Goods</td>\n",
              "      <td>Storage solutions</td>\n",
              "      <td>1</td>\n",
              "      <td>100.0</td>\n",
              "      <td>1.75</td>\n",
              "      <td>5714.00</td>\n",
              "      <td>100.0</td>\n",
              "      <td>4.00</td>\n",
              "      <td>...</td>\n",
              "      <td>0</td>\n",
              "      <td>1</td>\n",
              "      <td>1</td>\n",
              "      <td>1</td>\n",
              "      <td>1</td>\n",
              "      <td>1</td>\n",
              "      <td>0</td>\n",
              "      <td>2</td>\n",
              "      <td>50.0</td>\n",
              "      <td>2.000000</td>\n",
              "    </tr>\n",
              "    <tr>\n",
              "      <th>120</th>\n",
              "      <td>36</td>\n",
              "      <td>121</td>\n",
              "      <td>Devnagri</td>\n",
              "      <td>Translation platform</td>\n",
              "      <td>0</td>\n",
              "      <td>100.0</td>\n",
              "      <td>1.00</td>\n",
              "      <td>10000.00</td>\n",
              "      <td>0.0</td>\n",
              "      <td>0.00</td>\n",
              "      <td>...</td>\n",
              "      <td>0</td>\n",
              "      <td>1</td>\n",
              "      <td>0</td>\n",
              "      <td>1</td>\n",
              "      <td>0</td>\n",
              "      <td>1</td>\n",
              "      <td>0</td>\n",
              "      <td>0</td>\n",
              "      <td>0.0</td>\n",
              "      <td>0.000000</td>\n",
              "    </tr>\n",
              "  </tbody>\n",
              "</table>\n",
              "<p>121 rows × 32 columns</p>\n",
              "</div>\n",
              "      <button class=\"colab-df-convert\" onclick=\"convertToInteractive('df-45077597-fc97-466c-81e2-55e5a0d1db6f')\"\n",
              "              title=\"Convert this dataframe to an interactive table.\"\n",
              "              style=\"display:none;\">\n",
              "        \n",
              "  <svg xmlns=\"http://www.w3.org/2000/svg\" height=\"24px\"viewBox=\"0 0 24 24\"\n",
              "       width=\"24px\">\n",
              "    <path d=\"M0 0h24v24H0V0z\" fill=\"none\"/>\n",
              "    <path d=\"M18.56 5.44l.94 2.06.94-2.06 2.06-.94-2.06-.94-.94-2.06-.94 2.06-2.06.94zm-11 1L8.5 8.5l.94-2.06 2.06-.94-2.06-.94L8.5 2.5l-.94 2.06-2.06.94zm10 10l.94 2.06.94-2.06 2.06-.94-2.06-.94-.94-2.06-.94 2.06-2.06.94z\"/><path d=\"M17.41 7.96l-1.37-1.37c-.4-.4-.92-.59-1.43-.59-.52 0-1.04.2-1.43.59L10.3 9.45l-7.72 7.72c-.78.78-.78 2.05 0 2.83L4 21.41c.39.39.9.59 1.41.59.51 0 1.02-.2 1.41-.59l7.78-7.78 2.81-2.81c.8-.78.8-2.07 0-2.86zM5.41 20L4 18.59l7.72-7.72 1.47 1.35L5.41 20z\"/>\n",
              "  </svg>\n",
              "      </button>\n",
              "      \n",
              "  <style>\n",
              "    .colab-df-container {\n",
              "      display:flex;\n",
              "      flex-wrap:wrap;\n",
              "      gap: 12px;\n",
              "    }\n",
              "\n",
              "    .colab-df-convert {\n",
              "      background-color: #E8F0FE;\n",
              "      border: none;\n",
              "      border-radius: 50%;\n",
              "      cursor: pointer;\n",
              "      display: none;\n",
              "      fill: #1967D2;\n",
              "      height: 32px;\n",
              "      padding: 0 0 0 0;\n",
              "      width: 32px;\n",
              "    }\n",
              "\n",
              "    .colab-df-convert:hover {\n",
              "      background-color: #E2EBFA;\n",
              "      box-shadow: 0px 1px 2px rgba(60, 64, 67, 0.3), 0px 1px 3px 1px rgba(60, 64, 67, 0.15);\n",
              "      fill: #174EA6;\n",
              "    }\n",
              "\n",
              "    [theme=dark] .colab-df-convert {\n",
              "      background-color: #3B4455;\n",
              "      fill: #D2E3FC;\n",
              "    }\n",
              "\n",
              "    [theme=dark] .colab-df-convert:hover {\n",
              "      background-color: #434B5C;\n",
              "      box-shadow: 0px 1px 3px 1px rgba(0, 0, 0, 0.15);\n",
              "      filter: drop-shadow(0px 1px 2px rgba(0, 0, 0, 0.3));\n",
              "      fill: #FFFFFF;\n",
              "    }\n",
              "  </style>\n",
              "\n",
              "      <script>\n",
              "        const buttonEl =\n",
              "          document.querySelector('#df-45077597-fc97-466c-81e2-55e5a0d1db6f button.colab-df-convert');\n",
              "        buttonEl.style.display =\n",
              "          google.colab.kernel.accessAllowed ? 'block' : 'none';\n",
              "\n",
              "        async function convertToInteractive(key) {\n",
              "          const element = document.querySelector('#df-45077597-fc97-466c-81e2-55e5a0d1db6f');\n",
              "          const dataTable =\n",
              "            await google.colab.kernel.invokeFunction('convertToInteractive',\n",
              "                                                     [key], {});\n",
              "          if (!dataTable) return;\n",
              "\n",
              "          const docLinkHtml = 'Like what you see? Visit the ' +\n",
              "            '<a target=\"_blank\" href=https://colab.research.google.com/notebooks/data_table.ipynb>data table notebook</a>'\n",
              "            + ' to learn more about interactive tables.';\n",
              "          element.innerHTML = '';\n",
              "          dataTable['output_type'] = 'display_data';\n",
              "          await google.colab.output.renderOutput(dataTable, element);\n",
              "          const docLink = document.createElement('div');\n",
              "          docLink.innerHTML = docLinkHtml;\n",
              "          element.appendChild(docLink);\n",
              "        }\n",
              "      </script>\n",
              "    </div>\n",
              "  </div>\n",
              "  "
            ]
          },
          "metadata": {},
          "execution_count": 3
        }
      ]
    },
    {
      "cell_type": "code",
      "source": [
        "data.head()"
      ],
      "metadata": {
        "colab": {
          "base_uri": "https://localhost:8080/",
          "height": 456
        },
        "id": "XniTZp59PGt5",
        "outputId": "4f5631ae-60a3-4786-c449-f8411cb30cba"
      },
      "execution_count": 4,
      "outputs": [
        {
          "output_type": "execute_result",
          "data": {
            "text/plain": [
              "   episode_number  startup_number           brand_name  \\\n",
              "0               1               1  BluePine Industries   \n",
              "1               1               2        Booz scooters   \n",
              "2               1               3  Heart up my Sleeves   \n",
              "3               2               4           Tagz Foods   \n",
              "4               2               5       Head and Heart   \n",
              "\n",
              "                                     description  deal_offered  \\\n",
              "0                                   Frozen Momos             1   \n",
              "1  Renting e-bike for mobility in private spaces             1   \n",
              "2                             Detachable Sleeves             1   \n",
              "3                           Healthy Potato Chips             1   \n",
              "4                       Brain Development Course             0   \n",
              "\n",
              "   startup_ask_amount_lakhs  startup_ask_percentage  startup_ask_valuation  \\\n",
              "0                      50.0                     5.0                1000.00   \n",
              "1                      40.0                    15.0                 266.67   \n",
              "2                      25.0                    10.0                 250.00   \n",
              "3                      70.0                     1.0                7000.00   \n",
              "4                      50.0                     5.0                1000.00   \n",
              "\n",
              "   deal_amount_lakhs  deal_equity  ...  ghazal_invested  namita_present  \\\n",
              "0               75.0        16.00  ...                0               1   \n",
              "1               40.0        50.00  ...                0               1   \n",
              "2               25.0        30.00  ...                0               1   \n",
              "3               70.0         2.75  ...                0               1   \n",
              "4                0.0         0.00  ...                0               1   \n",
              "\n",
              "   namita_invested  peyush_present  peyush_invested  vineeta_present  \\\n",
              "0                0               0                0                1   \n",
              "1                0               0                0                1   \n",
              "2                0               0                0                1   \n",
              "3                0               0                0                1   \n",
              "4                0               0                0                1   \n",
              "\n",
              "   vineeta_invested  sharks_offering  amount_per_shark  equity_per_shark  \n",
              "0                 1                3              25.0          5.333333  \n",
              "1                 1                2              20.0         25.000000  \n",
              "2                 1                2              12.5         15.000000  \n",
              "3                 0                1              70.0          2.750000  \n",
              "4                 0                0               0.0          0.000000  \n",
              "\n",
              "[5 rows x 32 columns]"
            ],
            "text/html": [
              "\n",
              "  <div id=\"df-9e099815-54e7-4d92-8dc9-6a480bb9f768\">\n",
              "    <div class=\"colab-df-container\">\n",
              "      <div>\n",
              "<style scoped>\n",
              "    .dataframe tbody tr th:only-of-type {\n",
              "        vertical-align: middle;\n",
              "    }\n",
              "\n",
              "    .dataframe tbody tr th {\n",
              "        vertical-align: top;\n",
              "    }\n",
              "\n",
              "    .dataframe thead th {\n",
              "        text-align: right;\n",
              "    }\n",
              "</style>\n",
              "<table border=\"1\" class=\"dataframe\">\n",
              "  <thead>\n",
              "    <tr style=\"text-align: right;\">\n",
              "      <th></th>\n",
              "      <th>episode_number</th>\n",
              "      <th>startup_number</th>\n",
              "      <th>brand_name</th>\n",
              "      <th>description</th>\n",
              "      <th>deal_offered</th>\n",
              "      <th>startup_ask_amount_lakhs</th>\n",
              "      <th>startup_ask_percentage</th>\n",
              "      <th>startup_ask_valuation</th>\n",
              "      <th>deal_amount_lakhs</th>\n",
              "      <th>deal_equity</th>\n",
              "      <th>...</th>\n",
              "      <th>ghazal_invested</th>\n",
              "      <th>namita_present</th>\n",
              "      <th>namita_invested</th>\n",
              "      <th>peyush_present</th>\n",
              "      <th>peyush_invested</th>\n",
              "      <th>vineeta_present</th>\n",
              "      <th>vineeta_invested</th>\n",
              "      <th>sharks_offering</th>\n",
              "      <th>amount_per_shark</th>\n",
              "      <th>equity_per_shark</th>\n",
              "    </tr>\n",
              "  </thead>\n",
              "  <tbody>\n",
              "    <tr>\n",
              "      <th>0</th>\n",
              "      <td>1</td>\n",
              "      <td>1</td>\n",
              "      <td>BluePine Industries</td>\n",
              "      <td>Frozen Momos</td>\n",
              "      <td>1</td>\n",
              "      <td>50.0</td>\n",
              "      <td>5.0</td>\n",
              "      <td>1000.00</td>\n",
              "      <td>75.0</td>\n",
              "      <td>16.00</td>\n",
              "      <td>...</td>\n",
              "      <td>0</td>\n",
              "      <td>1</td>\n",
              "      <td>0</td>\n",
              "      <td>0</td>\n",
              "      <td>0</td>\n",
              "      <td>1</td>\n",
              "      <td>1</td>\n",
              "      <td>3</td>\n",
              "      <td>25.0</td>\n",
              "      <td>5.333333</td>\n",
              "    </tr>\n",
              "    <tr>\n",
              "      <th>1</th>\n",
              "      <td>1</td>\n",
              "      <td>2</td>\n",
              "      <td>Booz scooters</td>\n",
              "      <td>Renting e-bike for mobility in private spaces</td>\n",
              "      <td>1</td>\n",
              "      <td>40.0</td>\n",
              "      <td>15.0</td>\n",
              "      <td>266.67</td>\n",
              "      <td>40.0</td>\n",
              "      <td>50.00</td>\n",
              "      <td>...</td>\n",
              "      <td>0</td>\n",
              "      <td>1</td>\n",
              "      <td>0</td>\n",
              "      <td>0</td>\n",
              "      <td>0</td>\n",
              "      <td>1</td>\n",
              "      <td>1</td>\n",
              "      <td>2</td>\n",
              "      <td>20.0</td>\n",
              "      <td>25.000000</td>\n",
              "    </tr>\n",
              "    <tr>\n",
              "      <th>2</th>\n",
              "      <td>1</td>\n",
              "      <td>3</td>\n",
              "      <td>Heart up my Sleeves</td>\n",
              "      <td>Detachable Sleeves</td>\n",
              "      <td>1</td>\n",
              "      <td>25.0</td>\n",
              "      <td>10.0</td>\n",
              "      <td>250.00</td>\n",
              "      <td>25.0</td>\n",
              "      <td>30.00</td>\n",
              "      <td>...</td>\n",
              "      <td>0</td>\n",
              "      <td>1</td>\n",
              "      <td>0</td>\n",
              "      <td>0</td>\n",
              "      <td>0</td>\n",
              "      <td>1</td>\n",
              "      <td>1</td>\n",
              "      <td>2</td>\n",
              "      <td>12.5</td>\n",
              "      <td>15.000000</td>\n",
              "    </tr>\n",
              "    <tr>\n",
              "      <th>3</th>\n",
              "      <td>2</td>\n",
              "      <td>4</td>\n",
              "      <td>Tagz Foods</td>\n",
              "      <td>Healthy Potato Chips</td>\n",
              "      <td>1</td>\n",
              "      <td>70.0</td>\n",
              "      <td>1.0</td>\n",
              "      <td>7000.00</td>\n",
              "      <td>70.0</td>\n",
              "      <td>2.75</td>\n",
              "      <td>...</td>\n",
              "      <td>0</td>\n",
              "      <td>1</td>\n",
              "      <td>0</td>\n",
              "      <td>0</td>\n",
              "      <td>0</td>\n",
              "      <td>1</td>\n",
              "      <td>0</td>\n",
              "      <td>1</td>\n",
              "      <td>70.0</td>\n",
              "      <td>2.750000</td>\n",
              "    </tr>\n",
              "    <tr>\n",
              "      <th>4</th>\n",
              "      <td>2</td>\n",
              "      <td>5</td>\n",
              "      <td>Head and Heart</td>\n",
              "      <td>Brain Development Course</td>\n",
              "      <td>0</td>\n",
              "      <td>50.0</td>\n",
              "      <td>5.0</td>\n",
              "      <td>1000.00</td>\n",
              "      <td>0.0</td>\n",
              "      <td>0.00</td>\n",
              "      <td>...</td>\n",
              "      <td>0</td>\n",
              "      <td>1</td>\n",
              "      <td>0</td>\n",
              "      <td>0</td>\n",
              "      <td>0</td>\n",
              "      <td>1</td>\n",
              "      <td>0</td>\n",
              "      <td>0</td>\n",
              "      <td>0.0</td>\n",
              "      <td>0.000000</td>\n",
              "    </tr>\n",
              "  </tbody>\n",
              "</table>\n",
              "<p>5 rows × 32 columns</p>\n",
              "</div>\n",
              "      <button class=\"colab-df-convert\" onclick=\"convertToInteractive('df-9e099815-54e7-4d92-8dc9-6a480bb9f768')\"\n",
              "              title=\"Convert this dataframe to an interactive table.\"\n",
              "              style=\"display:none;\">\n",
              "        \n",
              "  <svg xmlns=\"http://www.w3.org/2000/svg\" height=\"24px\"viewBox=\"0 0 24 24\"\n",
              "       width=\"24px\">\n",
              "    <path d=\"M0 0h24v24H0V0z\" fill=\"none\"/>\n",
              "    <path d=\"M18.56 5.44l.94 2.06.94-2.06 2.06-.94-2.06-.94-.94-2.06-.94 2.06-2.06.94zm-11 1L8.5 8.5l.94-2.06 2.06-.94-2.06-.94L8.5 2.5l-.94 2.06-2.06.94zm10 10l.94 2.06.94-2.06 2.06-.94-2.06-.94-.94-2.06-.94 2.06-2.06.94z\"/><path d=\"M17.41 7.96l-1.37-1.37c-.4-.4-.92-.59-1.43-.59-.52 0-1.04.2-1.43.59L10.3 9.45l-7.72 7.72c-.78.78-.78 2.05 0 2.83L4 21.41c.39.39.9.59 1.41.59.51 0 1.02-.2 1.41-.59l7.78-7.78 2.81-2.81c.8-.78.8-2.07 0-2.86zM5.41 20L4 18.59l7.72-7.72 1.47 1.35L5.41 20z\"/>\n",
              "  </svg>\n",
              "      </button>\n",
              "      \n",
              "  <style>\n",
              "    .colab-df-container {\n",
              "      display:flex;\n",
              "      flex-wrap:wrap;\n",
              "      gap: 12px;\n",
              "    }\n",
              "\n",
              "    .colab-df-convert {\n",
              "      background-color: #E8F0FE;\n",
              "      border: none;\n",
              "      border-radius: 50%;\n",
              "      cursor: pointer;\n",
              "      display: none;\n",
              "      fill: #1967D2;\n",
              "      height: 32px;\n",
              "      padding: 0 0 0 0;\n",
              "      width: 32px;\n",
              "    }\n",
              "\n",
              "    .colab-df-convert:hover {\n",
              "      background-color: #E2EBFA;\n",
              "      box-shadow: 0px 1px 2px rgba(60, 64, 67, 0.3), 0px 1px 3px 1px rgba(60, 64, 67, 0.15);\n",
              "      fill: #174EA6;\n",
              "    }\n",
              "\n",
              "    [theme=dark] .colab-df-convert {\n",
              "      background-color: #3B4455;\n",
              "      fill: #D2E3FC;\n",
              "    }\n",
              "\n",
              "    [theme=dark] .colab-df-convert:hover {\n",
              "      background-color: #434B5C;\n",
              "      box-shadow: 0px 1px 3px 1px rgba(0, 0, 0, 0.15);\n",
              "      filter: drop-shadow(0px 1px 2px rgba(0, 0, 0, 0.3));\n",
              "      fill: #FFFFFF;\n",
              "    }\n",
              "  </style>\n",
              "\n",
              "      <script>\n",
              "        const buttonEl =\n",
              "          document.querySelector('#df-9e099815-54e7-4d92-8dc9-6a480bb9f768 button.colab-df-convert');\n",
              "        buttonEl.style.display =\n",
              "          google.colab.kernel.accessAllowed ? 'block' : 'none';\n",
              "\n",
              "        async function convertToInteractive(key) {\n",
              "          const element = document.querySelector('#df-9e099815-54e7-4d92-8dc9-6a480bb9f768');\n",
              "          const dataTable =\n",
              "            await google.colab.kernel.invokeFunction('convertToInteractive',\n",
              "                                                     [key], {});\n",
              "          if (!dataTable) return;\n",
              "\n",
              "          const docLinkHtml = 'Like what you see? Visit the ' +\n",
              "            '<a target=\"_blank\" href=https://colab.research.google.com/notebooks/data_table.ipynb>data table notebook</a>'\n",
              "            + ' to learn more about interactive tables.';\n",
              "          element.innerHTML = '';\n",
              "          dataTable['output_type'] = 'display_data';\n",
              "          await google.colab.output.renderOutput(dataTable, element);\n",
              "          const docLink = document.createElement('div');\n",
              "          docLink.innerHTML = docLinkHtml;\n",
              "          element.appendChild(docLink);\n",
              "        }\n",
              "      </script>\n",
              "    </div>\n",
              "  </div>\n",
              "  "
            ]
          },
          "metadata": {},
          "execution_count": 4
        }
      ]
    },
    {
      "cell_type": "code",
      "source": [
        "data.tail()"
      ],
      "metadata": {
        "colab": {
          "base_uri": "https://localhost:8080/",
          "height": 403
        },
        "id": "6NmVW0tePJ1P",
        "outputId": "77d59e5a-cf28-47f0-a72b-adee7a49068f"
      },
      "execution_count": 5,
      "outputs": [
        {
          "output_type": "execute_result",
          "data": {
            "text/plain": [
              "     episode_number  startup_number      brand_name  \\\n",
              "116              35             117    Elcare India   \n",
              "117              36             118        Sneakare   \n",
              "118              36             119    French Crown   \n",
              "119              36             120  Store My Goods   \n",
              "120              36             121        Devnagri   \n",
              "\n",
              "                         description  deal_offered  startup_ask_amount_lakhs  \\\n",
              "116             Carenting for Elders             0                     100.0   \n",
              "117  Shoe care and storage solutions             1                      20.0   \n",
              "118                Clothing Industry             0                     150.0   \n",
              "119                Storage solutions             1                     100.0   \n",
              "120             Translation platform             0                     100.0   \n",
              "\n",
              "     startup_ask_percentage  startup_ask_valuation  deal_amount_lakhs  \\\n",
              "116                    2.50                 4000.0                0.0   \n",
              "117                    5.00                  400.0               21.0   \n",
              "118                    0.33                45000.0                0.0   \n",
              "119                    1.75                 5714.0              100.0   \n",
              "120                    1.00                10000.0                0.0   \n",
              "\n",
              "     deal_equity  ...  ghazal_invested  namita_present  namita_invested  \\\n",
              "116          0.0  ...                0               1                0   \n",
              "117         12.0  ...                0               1                1   \n",
              "118          0.0  ...                0               1                0   \n",
              "119          4.0  ...                0               1                1   \n",
              "120          0.0  ...                0               1                0   \n",
              "\n",
              "     peyush_present  peyush_invested  vineeta_present  vineeta_invested  \\\n",
              "116               1                0                1                 0   \n",
              "117               1                0                1                 1   \n",
              "118               1                0                1                 0   \n",
              "119               1                1                1                 0   \n",
              "120               1                0                1                 0   \n",
              "\n",
              "     sharks_offering  amount_per_shark  equity_per_shark  \n",
              "116                0               0.0               0.0  \n",
              "117                3               7.0               4.0  \n",
              "118                0               0.0               0.0  \n",
              "119                2              50.0               2.0  \n",
              "120                0               0.0               0.0  \n",
              "\n",
              "[5 rows x 32 columns]"
            ],
            "text/html": [
              "\n",
              "  <div id=\"df-9c35d305-7876-402c-9c10-62e3c6f318f0\">\n",
              "    <div class=\"colab-df-container\">\n",
              "      <div>\n",
              "<style scoped>\n",
              "    .dataframe tbody tr th:only-of-type {\n",
              "        vertical-align: middle;\n",
              "    }\n",
              "\n",
              "    .dataframe tbody tr th {\n",
              "        vertical-align: top;\n",
              "    }\n",
              "\n",
              "    .dataframe thead th {\n",
              "        text-align: right;\n",
              "    }\n",
              "</style>\n",
              "<table border=\"1\" class=\"dataframe\">\n",
              "  <thead>\n",
              "    <tr style=\"text-align: right;\">\n",
              "      <th></th>\n",
              "      <th>episode_number</th>\n",
              "      <th>startup_number</th>\n",
              "      <th>brand_name</th>\n",
              "      <th>description</th>\n",
              "      <th>deal_offered</th>\n",
              "      <th>startup_ask_amount_lakhs</th>\n",
              "      <th>startup_ask_percentage</th>\n",
              "      <th>startup_ask_valuation</th>\n",
              "      <th>deal_amount_lakhs</th>\n",
              "      <th>deal_equity</th>\n",
              "      <th>...</th>\n",
              "      <th>ghazal_invested</th>\n",
              "      <th>namita_present</th>\n",
              "      <th>namita_invested</th>\n",
              "      <th>peyush_present</th>\n",
              "      <th>peyush_invested</th>\n",
              "      <th>vineeta_present</th>\n",
              "      <th>vineeta_invested</th>\n",
              "      <th>sharks_offering</th>\n",
              "      <th>amount_per_shark</th>\n",
              "      <th>equity_per_shark</th>\n",
              "    </tr>\n",
              "  </thead>\n",
              "  <tbody>\n",
              "    <tr>\n",
              "      <th>116</th>\n",
              "      <td>35</td>\n",
              "      <td>117</td>\n",
              "      <td>Elcare India</td>\n",
              "      <td>Carenting for Elders</td>\n",
              "      <td>0</td>\n",
              "      <td>100.0</td>\n",
              "      <td>2.50</td>\n",
              "      <td>4000.0</td>\n",
              "      <td>0.0</td>\n",
              "      <td>0.0</td>\n",
              "      <td>...</td>\n",
              "      <td>0</td>\n",
              "      <td>1</td>\n",
              "      <td>0</td>\n",
              "      <td>1</td>\n",
              "      <td>0</td>\n",
              "      <td>1</td>\n",
              "      <td>0</td>\n",
              "      <td>0</td>\n",
              "      <td>0.0</td>\n",
              "      <td>0.0</td>\n",
              "    </tr>\n",
              "    <tr>\n",
              "      <th>117</th>\n",
              "      <td>36</td>\n",
              "      <td>118</td>\n",
              "      <td>Sneakare</td>\n",
              "      <td>Shoe care and storage solutions</td>\n",
              "      <td>1</td>\n",
              "      <td>20.0</td>\n",
              "      <td>5.00</td>\n",
              "      <td>400.0</td>\n",
              "      <td>21.0</td>\n",
              "      <td>12.0</td>\n",
              "      <td>...</td>\n",
              "      <td>0</td>\n",
              "      <td>1</td>\n",
              "      <td>1</td>\n",
              "      <td>1</td>\n",
              "      <td>0</td>\n",
              "      <td>1</td>\n",
              "      <td>1</td>\n",
              "      <td>3</td>\n",
              "      <td>7.0</td>\n",
              "      <td>4.0</td>\n",
              "    </tr>\n",
              "    <tr>\n",
              "      <th>118</th>\n",
              "      <td>36</td>\n",
              "      <td>119</td>\n",
              "      <td>French Crown</td>\n",
              "      <td>Clothing Industry</td>\n",
              "      <td>0</td>\n",
              "      <td>150.0</td>\n",
              "      <td>0.33</td>\n",
              "      <td>45000.0</td>\n",
              "      <td>0.0</td>\n",
              "      <td>0.0</td>\n",
              "      <td>...</td>\n",
              "      <td>0</td>\n",
              "      <td>1</td>\n",
              "      <td>0</td>\n",
              "      <td>1</td>\n",
              "      <td>0</td>\n",
              "      <td>1</td>\n",
              "      <td>0</td>\n",
              "      <td>0</td>\n",
              "      <td>0.0</td>\n",
              "      <td>0.0</td>\n",
              "    </tr>\n",
              "    <tr>\n",
              "      <th>119</th>\n",
              "      <td>36</td>\n",
              "      <td>120</td>\n",
              "      <td>Store My Goods</td>\n",
              "      <td>Storage solutions</td>\n",
              "      <td>1</td>\n",
              "      <td>100.0</td>\n",
              "      <td>1.75</td>\n",
              "      <td>5714.0</td>\n",
              "      <td>100.0</td>\n",
              "      <td>4.0</td>\n",
              "      <td>...</td>\n",
              "      <td>0</td>\n",
              "      <td>1</td>\n",
              "      <td>1</td>\n",
              "      <td>1</td>\n",
              "      <td>1</td>\n",
              "      <td>1</td>\n",
              "      <td>0</td>\n",
              "      <td>2</td>\n",
              "      <td>50.0</td>\n",
              "      <td>2.0</td>\n",
              "    </tr>\n",
              "    <tr>\n",
              "      <th>120</th>\n",
              "      <td>36</td>\n",
              "      <td>121</td>\n",
              "      <td>Devnagri</td>\n",
              "      <td>Translation platform</td>\n",
              "      <td>0</td>\n",
              "      <td>100.0</td>\n",
              "      <td>1.00</td>\n",
              "      <td>10000.0</td>\n",
              "      <td>0.0</td>\n",
              "      <td>0.0</td>\n",
              "      <td>...</td>\n",
              "      <td>0</td>\n",
              "      <td>1</td>\n",
              "      <td>0</td>\n",
              "      <td>1</td>\n",
              "      <td>0</td>\n",
              "      <td>1</td>\n",
              "      <td>0</td>\n",
              "      <td>0</td>\n",
              "      <td>0.0</td>\n",
              "      <td>0.0</td>\n",
              "    </tr>\n",
              "  </tbody>\n",
              "</table>\n",
              "<p>5 rows × 32 columns</p>\n",
              "</div>\n",
              "      <button class=\"colab-df-convert\" onclick=\"convertToInteractive('df-9c35d305-7876-402c-9c10-62e3c6f318f0')\"\n",
              "              title=\"Convert this dataframe to an interactive table.\"\n",
              "              style=\"display:none;\">\n",
              "        \n",
              "  <svg xmlns=\"http://www.w3.org/2000/svg\" height=\"24px\"viewBox=\"0 0 24 24\"\n",
              "       width=\"24px\">\n",
              "    <path d=\"M0 0h24v24H0V0z\" fill=\"none\"/>\n",
              "    <path d=\"M18.56 5.44l.94 2.06.94-2.06 2.06-.94-2.06-.94-.94-2.06-.94 2.06-2.06.94zm-11 1L8.5 8.5l.94-2.06 2.06-.94-2.06-.94L8.5 2.5l-.94 2.06-2.06.94zm10 10l.94 2.06.94-2.06 2.06-.94-2.06-.94-.94-2.06-.94 2.06-2.06.94z\"/><path d=\"M17.41 7.96l-1.37-1.37c-.4-.4-.92-.59-1.43-.59-.52 0-1.04.2-1.43.59L10.3 9.45l-7.72 7.72c-.78.78-.78 2.05 0 2.83L4 21.41c.39.39.9.59 1.41.59.51 0 1.02-.2 1.41-.59l7.78-7.78 2.81-2.81c.8-.78.8-2.07 0-2.86zM5.41 20L4 18.59l7.72-7.72 1.47 1.35L5.41 20z\"/>\n",
              "  </svg>\n",
              "      </button>\n",
              "      \n",
              "  <style>\n",
              "    .colab-df-container {\n",
              "      display:flex;\n",
              "      flex-wrap:wrap;\n",
              "      gap: 12px;\n",
              "    }\n",
              "\n",
              "    .colab-df-convert {\n",
              "      background-color: #E8F0FE;\n",
              "      border: none;\n",
              "      border-radius: 50%;\n",
              "      cursor: pointer;\n",
              "      display: none;\n",
              "      fill: #1967D2;\n",
              "      height: 32px;\n",
              "      padding: 0 0 0 0;\n",
              "      width: 32px;\n",
              "    }\n",
              "\n",
              "    .colab-df-convert:hover {\n",
              "      background-color: #E2EBFA;\n",
              "      box-shadow: 0px 1px 2px rgba(60, 64, 67, 0.3), 0px 1px 3px 1px rgba(60, 64, 67, 0.15);\n",
              "      fill: #174EA6;\n",
              "    }\n",
              "\n",
              "    [theme=dark] .colab-df-convert {\n",
              "      background-color: #3B4455;\n",
              "      fill: #D2E3FC;\n",
              "    }\n",
              "\n",
              "    [theme=dark] .colab-df-convert:hover {\n",
              "      background-color: #434B5C;\n",
              "      box-shadow: 0px 1px 3px 1px rgba(0, 0, 0, 0.15);\n",
              "      filter: drop-shadow(0px 1px 2px rgba(0, 0, 0, 0.3));\n",
              "      fill: #FFFFFF;\n",
              "    }\n",
              "  </style>\n",
              "\n",
              "      <script>\n",
              "        const buttonEl =\n",
              "          document.querySelector('#df-9c35d305-7876-402c-9c10-62e3c6f318f0 button.colab-df-convert');\n",
              "        buttonEl.style.display =\n",
              "          google.colab.kernel.accessAllowed ? 'block' : 'none';\n",
              "\n",
              "        async function convertToInteractive(key) {\n",
              "          const element = document.querySelector('#df-9c35d305-7876-402c-9c10-62e3c6f318f0');\n",
              "          const dataTable =\n",
              "            await google.colab.kernel.invokeFunction('convertToInteractive',\n",
              "                                                     [key], {});\n",
              "          if (!dataTable) return;\n",
              "\n",
              "          const docLinkHtml = 'Like what you see? Visit the ' +\n",
              "            '<a target=\"_blank\" href=https://colab.research.google.com/notebooks/data_table.ipynb>data table notebook</a>'\n",
              "            + ' to learn more about interactive tables.';\n",
              "          element.innerHTML = '';\n",
              "          dataTable['output_type'] = 'display_data';\n",
              "          await google.colab.output.renderOutput(dataTable, element);\n",
              "          const docLink = document.createElement('div');\n",
              "          docLink.innerHTML = docLinkHtml;\n",
              "          element.appendChild(docLink);\n",
              "        }\n",
              "      </script>\n",
              "    </div>\n",
              "  </div>\n",
              "  "
            ]
          },
          "metadata": {},
          "execution_count": 5
        }
      ]
    },
    {
      "cell_type": "code",
      "source": [
        "data.shape"
      ],
      "metadata": {
        "colab": {
          "base_uri": "https://localhost:8080/"
        },
        "id": "Fe_BRBjWPPPr",
        "outputId": "7ada7840-6dc6-41d5-e79a-95067ff1565d"
      },
      "execution_count": 6,
      "outputs": [
        {
          "output_type": "execute_result",
          "data": {
            "text/plain": [
              "(121, 32)"
            ]
          },
          "metadata": {},
          "execution_count": 6
        }
      ]
    },
    {
      "cell_type": "code",
      "source": [
        "data.columns"
      ],
      "metadata": {
        "colab": {
          "base_uri": "https://localhost:8080/"
        },
        "id": "d9Fa98mOPWPf",
        "outputId": "f6fa839c-a279-4a42-c458-2402bc1630c9"
      },
      "execution_count": 7,
      "outputs": [
        {
          "output_type": "execute_result",
          "data": {
            "text/plain": [
              "Index(['episode_number', 'startup_number', 'brand_name', 'description',\n",
              "       'deal_offered', 'startup_ask_amount_lakhs', 'startup_ask_percentage',\n",
              "       'startup_ask_valuation', 'deal_amount_lakhs', 'deal_equity',\n",
              "       'deal_valuation', 'loan_element_present', 'loan_amount',\n",
              "       'rannvijay_present', 'abish_present', 'aman_present', 'aman_invested',\n",
              "       'anupam_present', 'anupam_invested', 'ashneer_present',\n",
              "       'ashneer_invested', 'ghazal_present', 'ghazal_invested',\n",
              "       'namita_present', 'namita_invested', 'peyush_present',\n",
              "       'peyush_invested', 'vineeta_present', 'vineeta_invested',\n",
              "       'sharks_offering', 'amount_per_shark', 'equity_per_shark'],\n",
              "      dtype='object')"
            ]
          },
          "metadata": {},
          "execution_count": 7
        }
      ]
    },
    {
      "cell_type": "code",
      "source": [
        "data.info()"
      ],
      "metadata": {
        "colab": {
          "base_uri": "https://localhost:8080/"
        },
        "id": "0IzfpIBaPd4R",
        "outputId": "20c48f6e-9832-441f-ba88-58cf539948a2"
      },
      "execution_count": 8,
      "outputs": [
        {
          "output_type": "stream",
          "name": "stdout",
          "text": [
            "<class 'pandas.core.frame.DataFrame'>\n",
            "RangeIndex: 121 entries, 0 to 120\n",
            "Data columns (total 32 columns):\n",
            " #   Column                    Non-Null Count  Dtype  \n",
            "---  ------                    --------------  -----  \n",
            " 0   episode_number            121 non-null    int64  \n",
            " 1   startup_number            121 non-null    int64  \n",
            " 2   brand_name                121 non-null    object \n",
            " 3   description               121 non-null    object \n",
            " 4   deal_offered              121 non-null    int64  \n",
            " 5   startup_ask_amount_lakhs  121 non-null    float64\n",
            " 6   startup_ask_percentage    121 non-null    float64\n",
            " 7   startup_ask_valuation     121 non-null    float64\n",
            " 8   deal_amount_lakhs         121 non-null    float64\n",
            " 9   deal_equity               121 non-null    float64\n",
            " 10  deal_valuation            121 non-null    float64\n",
            " 11  loan_element_present      121 non-null    int64  \n",
            " 12  loan_amount               121 non-null    int64  \n",
            " 13  rannvijay_present         121 non-null    int64  \n",
            " 14  abish_present             121 non-null    int64  \n",
            " 15  aman_present              121 non-null    int64  \n",
            " 16  aman_invested             121 non-null    int64  \n",
            " 17  anupam_present            121 non-null    int64  \n",
            " 18  anupam_invested           121 non-null    int64  \n",
            " 19  ashneer_present           121 non-null    int64  \n",
            " 20  ashneer_invested          121 non-null    int64  \n",
            " 21  ghazal_present            121 non-null    int64  \n",
            " 22  ghazal_invested           121 non-null    int64  \n",
            " 23  namita_present            121 non-null    int64  \n",
            " 24  namita_invested           121 non-null    int64  \n",
            " 25  peyush_present            121 non-null    int64  \n",
            " 26  peyush_invested           121 non-null    int64  \n",
            " 27  vineeta_present           121 non-null    int64  \n",
            " 28  vineeta_invested          121 non-null    int64  \n",
            " 29  sharks_offering           121 non-null    int64  \n",
            " 30  amount_per_shark          121 non-null    float64\n",
            " 31  equity_per_shark          121 non-null    float64\n",
            "dtypes: float64(8), int64(22), object(2)\n",
            "memory usage: 30.4+ KB\n"
          ]
        }
      ]
    },
    {
      "cell_type": "code",
      "source": [
        "data.describe()"
      ],
      "metadata": {
        "colab": {
          "base_uri": "https://localhost:8080/",
          "height": 394
        },
        "id": "GdUEJLVgPjc1",
        "outputId": "619eaa13-74d8-4255-adc3-e00e3b9d3c84"
      },
      "execution_count": 9,
      "outputs": [
        {
          "output_type": "execute_result",
          "data": {
            "text/plain": [
              "       episode_number  startup_number  deal_offered  startup_ask_amount_lakhs  \\\n",
              "count      121.000000      121.000000    121.000000                121.000000   \n",
              "mean        19.305785       61.000000      0.561983                312.338851   \n",
              "std         10.375326       35.073732      0.498206               2721.640471   \n",
              "min          1.000000        1.000000      0.000000                  0.001010   \n",
              "25%         11.000000       31.000000      0.000000                 45.000000   \n",
              "50%         19.000000       61.000000      1.000000                 50.000000   \n",
              "75%         28.000000       91.000000      1.000000                 80.000000   \n",
              "max         36.000000      121.000000      1.000000              30000.000000   \n",
              "\n",
              "       startup_ask_percentage  startup_ask_valuation  deal_amount_lakhs  \\\n",
              "count              121.000000             121.000000         121.000000   \n",
              "mean                 5.083306            4230.182727          31.925629   \n",
              "std                  3.882554           12329.894575          36.847011   \n",
              "min                  0.250000               0.010000           0.000000   \n",
              "25%                  2.000000             666.670000           0.000000   \n",
              "50%                  5.000000            1333.330000          21.000000   \n",
              "75%                  7.000000            3000.000000          50.000000   \n",
              "max                 25.000000          120000.000000         150.000000   \n",
              "\n",
              "       deal_equity  deal_valuation  loan_element_present  ...  \\\n",
              "count   121.000000      121.000000             121.00000  ...   \n",
              "mean      8.799421      473.770826               0.07438  ...   \n",
              "std      12.948175      925.693471               0.26348  ...   \n",
              "min       0.000000        0.000000               0.00000  ...   \n",
              "25%       0.000000        0.000000               0.00000  ...   \n",
              "50%       3.000000      100.000000               0.00000  ...   \n",
              "75%      15.000000      500.000000               0.00000  ...   \n",
              "max      75.000000     6666.670000               1.00000  ...   \n",
              "\n",
              "       ghazal_invested  namita_present  namita_invested  peyush_present  \\\n",
              "count       121.000000      121.000000       121.000000      121.000000   \n",
              "mean          0.057851        0.909091         0.198347        0.760331   \n",
              "std           0.234433        0.288675         0.400413        0.428657   \n",
              "min           0.000000        0.000000         0.000000        0.000000   \n",
              "25%           0.000000        1.000000         0.000000        1.000000   \n",
              "50%           0.000000        1.000000         0.000000        1.000000   \n",
              "75%           0.000000        1.000000         0.000000        1.000000   \n",
              "max           1.000000        1.000000         1.000000        1.000000   \n",
              "\n",
              "       peyush_invested  vineeta_present  vineeta_invested  sharks_offering  \\\n",
              "count       121.000000       121.000000        121.000000       121.000000   \n",
              "mean          0.231405         0.578512          0.132231         1.231405   \n",
              "std           0.423484         0.495851          0.340151         1.406890   \n",
              "min           0.000000         0.000000          0.000000         0.000000   \n",
              "25%           0.000000         0.000000          0.000000         0.000000   \n",
              "50%           0.000000         1.000000          0.000000         1.000000   \n",
              "75%           0.000000         1.000000          0.000000         2.000000   \n",
              "max           1.000000         1.000000          1.000000         5.000000   \n",
              "\n",
              "       amount_per_shark  equity_per_shark  \n",
              "count        121.000000        121.000000  \n",
              "mean          18.004134          5.448595  \n",
              "std           23.512490         10.651783  \n",
              "min            0.000000          0.000000  \n",
              "25%            0.000000          0.000000  \n",
              "50%           10.000000          1.250000  \n",
              "75%           25.000000          6.000000  \n",
              "max          100.000000         75.000000  \n",
              "\n",
              "[8 rows x 30 columns]"
            ],
            "text/html": [
              "\n",
              "  <div id=\"df-12957dd0-0b23-4aa2-b8dc-477e89c47d56\">\n",
              "    <div class=\"colab-df-container\">\n",
              "      <div>\n",
              "<style scoped>\n",
              "    .dataframe tbody tr th:only-of-type {\n",
              "        vertical-align: middle;\n",
              "    }\n",
              "\n",
              "    .dataframe tbody tr th {\n",
              "        vertical-align: top;\n",
              "    }\n",
              "\n",
              "    .dataframe thead th {\n",
              "        text-align: right;\n",
              "    }\n",
              "</style>\n",
              "<table border=\"1\" class=\"dataframe\">\n",
              "  <thead>\n",
              "    <tr style=\"text-align: right;\">\n",
              "      <th></th>\n",
              "      <th>episode_number</th>\n",
              "      <th>startup_number</th>\n",
              "      <th>deal_offered</th>\n",
              "      <th>startup_ask_amount_lakhs</th>\n",
              "      <th>startup_ask_percentage</th>\n",
              "      <th>startup_ask_valuation</th>\n",
              "      <th>deal_amount_lakhs</th>\n",
              "      <th>deal_equity</th>\n",
              "      <th>deal_valuation</th>\n",
              "      <th>loan_element_present</th>\n",
              "      <th>...</th>\n",
              "      <th>ghazal_invested</th>\n",
              "      <th>namita_present</th>\n",
              "      <th>namita_invested</th>\n",
              "      <th>peyush_present</th>\n",
              "      <th>peyush_invested</th>\n",
              "      <th>vineeta_present</th>\n",
              "      <th>vineeta_invested</th>\n",
              "      <th>sharks_offering</th>\n",
              "      <th>amount_per_shark</th>\n",
              "      <th>equity_per_shark</th>\n",
              "    </tr>\n",
              "  </thead>\n",
              "  <tbody>\n",
              "    <tr>\n",
              "      <th>count</th>\n",
              "      <td>121.000000</td>\n",
              "      <td>121.000000</td>\n",
              "      <td>121.000000</td>\n",
              "      <td>121.000000</td>\n",
              "      <td>121.000000</td>\n",
              "      <td>121.000000</td>\n",
              "      <td>121.000000</td>\n",
              "      <td>121.000000</td>\n",
              "      <td>121.000000</td>\n",
              "      <td>121.00000</td>\n",
              "      <td>...</td>\n",
              "      <td>121.000000</td>\n",
              "      <td>121.000000</td>\n",
              "      <td>121.000000</td>\n",
              "      <td>121.000000</td>\n",
              "      <td>121.000000</td>\n",
              "      <td>121.000000</td>\n",
              "      <td>121.000000</td>\n",
              "      <td>121.000000</td>\n",
              "      <td>121.000000</td>\n",
              "      <td>121.000000</td>\n",
              "    </tr>\n",
              "    <tr>\n",
              "      <th>mean</th>\n",
              "      <td>19.305785</td>\n",
              "      <td>61.000000</td>\n",
              "      <td>0.561983</td>\n",
              "      <td>312.338851</td>\n",
              "      <td>5.083306</td>\n",
              "      <td>4230.182727</td>\n",
              "      <td>31.925629</td>\n",
              "      <td>8.799421</td>\n",
              "      <td>473.770826</td>\n",
              "      <td>0.07438</td>\n",
              "      <td>...</td>\n",
              "      <td>0.057851</td>\n",
              "      <td>0.909091</td>\n",
              "      <td>0.198347</td>\n",
              "      <td>0.760331</td>\n",
              "      <td>0.231405</td>\n",
              "      <td>0.578512</td>\n",
              "      <td>0.132231</td>\n",
              "      <td>1.231405</td>\n",
              "      <td>18.004134</td>\n",
              "      <td>5.448595</td>\n",
              "    </tr>\n",
              "    <tr>\n",
              "      <th>std</th>\n",
              "      <td>10.375326</td>\n",
              "      <td>35.073732</td>\n",
              "      <td>0.498206</td>\n",
              "      <td>2721.640471</td>\n",
              "      <td>3.882554</td>\n",
              "      <td>12329.894575</td>\n",
              "      <td>36.847011</td>\n",
              "      <td>12.948175</td>\n",
              "      <td>925.693471</td>\n",
              "      <td>0.26348</td>\n",
              "      <td>...</td>\n",
              "      <td>0.234433</td>\n",
              "      <td>0.288675</td>\n",
              "      <td>0.400413</td>\n",
              "      <td>0.428657</td>\n",
              "      <td>0.423484</td>\n",
              "      <td>0.495851</td>\n",
              "      <td>0.340151</td>\n",
              "      <td>1.406890</td>\n",
              "      <td>23.512490</td>\n",
              "      <td>10.651783</td>\n",
              "    </tr>\n",
              "    <tr>\n",
              "      <th>min</th>\n",
              "      <td>1.000000</td>\n",
              "      <td>1.000000</td>\n",
              "      <td>0.000000</td>\n",
              "      <td>0.001010</td>\n",
              "      <td>0.250000</td>\n",
              "      <td>0.010000</td>\n",
              "      <td>0.000000</td>\n",
              "      <td>0.000000</td>\n",
              "      <td>0.000000</td>\n",
              "      <td>0.00000</td>\n",
              "      <td>...</td>\n",
              "      <td>0.000000</td>\n",
              "      <td>0.000000</td>\n",
              "      <td>0.000000</td>\n",
              "      <td>0.000000</td>\n",
              "      <td>0.000000</td>\n",
              "      <td>0.000000</td>\n",
              "      <td>0.000000</td>\n",
              "      <td>0.000000</td>\n",
              "      <td>0.000000</td>\n",
              "      <td>0.000000</td>\n",
              "    </tr>\n",
              "    <tr>\n",
              "      <th>25%</th>\n",
              "      <td>11.000000</td>\n",
              "      <td>31.000000</td>\n",
              "      <td>0.000000</td>\n",
              "      <td>45.000000</td>\n",
              "      <td>2.000000</td>\n",
              "      <td>666.670000</td>\n",
              "      <td>0.000000</td>\n",
              "      <td>0.000000</td>\n",
              "      <td>0.000000</td>\n",
              "      <td>0.00000</td>\n",
              "      <td>...</td>\n",
              "      <td>0.000000</td>\n",
              "      <td>1.000000</td>\n",
              "      <td>0.000000</td>\n",
              "      <td>1.000000</td>\n",
              "      <td>0.000000</td>\n",
              "      <td>0.000000</td>\n",
              "      <td>0.000000</td>\n",
              "      <td>0.000000</td>\n",
              "      <td>0.000000</td>\n",
              "      <td>0.000000</td>\n",
              "    </tr>\n",
              "    <tr>\n",
              "      <th>50%</th>\n",
              "      <td>19.000000</td>\n",
              "      <td>61.000000</td>\n",
              "      <td>1.000000</td>\n",
              "      <td>50.000000</td>\n",
              "      <td>5.000000</td>\n",
              "      <td>1333.330000</td>\n",
              "      <td>21.000000</td>\n",
              "      <td>3.000000</td>\n",
              "      <td>100.000000</td>\n",
              "      <td>0.00000</td>\n",
              "      <td>...</td>\n",
              "      <td>0.000000</td>\n",
              "      <td>1.000000</td>\n",
              "      <td>0.000000</td>\n",
              "      <td>1.000000</td>\n",
              "      <td>0.000000</td>\n",
              "      <td>1.000000</td>\n",
              "      <td>0.000000</td>\n",
              "      <td>1.000000</td>\n",
              "      <td>10.000000</td>\n",
              "      <td>1.250000</td>\n",
              "    </tr>\n",
              "    <tr>\n",
              "      <th>75%</th>\n",
              "      <td>28.000000</td>\n",
              "      <td>91.000000</td>\n",
              "      <td>1.000000</td>\n",
              "      <td>80.000000</td>\n",
              "      <td>7.000000</td>\n",
              "      <td>3000.000000</td>\n",
              "      <td>50.000000</td>\n",
              "      <td>15.000000</td>\n",
              "      <td>500.000000</td>\n",
              "      <td>0.00000</td>\n",
              "      <td>...</td>\n",
              "      <td>0.000000</td>\n",
              "      <td>1.000000</td>\n",
              "      <td>0.000000</td>\n",
              "      <td>1.000000</td>\n",
              "      <td>0.000000</td>\n",
              "      <td>1.000000</td>\n",
              "      <td>0.000000</td>\n",
              "      <td>2.000000</td>\n",
              "      <td>25.000000</td>\n",
              "      <td>6.000000</td>\n",
              "    </tr>\n",
              "    <tr>\n",
              "      <th>max</th>\n",
              "      <td>36.000000</td>\n",
              "      <td>121.000000</td>\n",
              "      <td>1.000000</td>\n",
              "      <td>30000.000000</td>\n",
              "      <td>25.000000</td>\n",
              "      <td>120000.000000</td>\n",
              "      <td>150.000000</td>\n",
              "      <td>75.000000</td>\n",
              "      <td>6666.670000</td>\n",
              "      <td>1.00000</td>\n",
              "      <td>...</td>\n",
              "      <td>1.000000</td>\n",
              "      <td>1.000000</td>\n",
              "      <td>1.000000</td>\n",
              "      <td>1.000000</td>\n",
              "      <td>1.000000</td>\n",
              "      <td>1.000000</td>\n",
              "      <td>1.000000</td>\n",
              "      <td>5.000000</td>\n",
              "      <td>100.000000</td>\n",
              "      <td>75.000000</td>\n",
              "    </tr>\n",
              "  </tbody>\n",
              "</table>\n",
              "<p>8 rows × 30 columns</p>\n",
              "</div>\n",
              "      <button class=\"colab-df-convert\" onclick=\"convertToInteractive('df-12957dd0-0b23-4aa2-b8dc-477e89c47d56')\"\n",
              "              title=\"Convert this dataframe to an interactive table.\"\n",
              "              style=\"display:none;\">\n",
              "        \n",
              "  <svg xmlns=\"http://www.w3.org/2000/svg\" height=\"24px\"viewBox=\"0 0 24 24\"\n",
              "       width=\"24px\">\n",
              "    <path d=\"M0 0h24v24H0V0z\" fill=\"none\"/>\n",
              "    <path d=\"M18.56 5.44l.94 2.06.94-2.06 2.06-.94-2.06-.94-.94-2.06-.94 2.06-2.06.94zm-11 1L8.5 8.5l.94-2.06 2.06-.94-2.06-.94L8.5 2.5l-.94 2.06-2.06.94zm10 10l.94 2.06.94-2.06 2.06-.94-2.06-.94-.94-2.06-.94 2.06-2.06.94z\"/><path d=\"M17.41 7.96l-1.37-1.37c-.4-.4-.92-.59-1.43-.59-.52 0-1.04.2-1.43.59L10.3 9.45l-7.72 7.72c-.78.78-.78 2.05 0 2.83L4 21.41c.39.39.9.59 1.41.59.51 0 1.02-.2 1.41-.59l7.78-7.78 2.81-2.81c.8-.78.8-2.07 0-2.86zM5.41 20L4 18.59l7.72-7.72 1.47 1.35L5.41 20z\"/>\n",
              "  </svg>\n",
              "      </button>\n",
              "      \n",
              "  <style>\n",
              "    .colab-df-container {\n",
              "      display:flex;\n",
              "      flex-wrap:wrap;\n",
              "      gap: 12px;\n",
              "    }\n",
              "\n",
              "    .colab-df-convert {\n",
              "      background-color: #E8F0FE;\n",
              "      border: none;\n",
              "      border-radius: 50%;\n",
              "      cursor: pointer;\n",
              "      display: none;\n",
              "      fill: #1967D2;\n",
              "      height: 32px;\n",
              "      padding: 0 0 0 0;\n",
              "      width: 32px;\n",
              "    }\n",
              "\n",
              "    .colab-df-convert:hover {\n",
              "      background-color: #E2EBFA;\n",
              "      box-shadow: 0px 1px 2px rgba(60, 64, 67, 0.3), 0px 1px 3px 1px rgba(60, 64, 67, 0.15);\n",
              "      fill: #174EA6;\n",
              "    }\n",
              "\n",
              "    [theme=dark] .colab-df-convert {\n",
              "      background-color: #3B4455;\n",
              "      fill: #D2E3FC;\n",
              "    }\n",
              "\n",
              "    [theme=dark] .colab-df-convert:hover {\n",
              "      background-color: #434B5C;\n",
              "      box-shadow: 0px 1px 3px 1px rgba(0, 0, 0, 0.15);\n",
              "      filter: drop-shadow(0px 1px 2px rgba(0, 0, 0, 0.3));\n",
              "      fill: #FFFFFF;\n",
              "    }\n",
              "  </style>\n",
              "\n",
              "      <script>\n",
              "        const buttonEl =\n",
              "          document.querySelector('#df-12957dd0-0b23-4aa2-b8dc-477e89c47d56 button.colab-df-convert');\n",
              "        buttonEl.style.display =\n",
              "          google.colab.kernel.accessAllowed ? 'block' : 'none';\n",
              "\n",
              "        async function convertToInteractive(key) {\n",
              "          const element = document.querySelector('#df-12957dd0-0b23-4aa2-b8dc-477e89c47d56');\n",
              "          const dataTable =\n",
              "            await google.colab.kernel.invokeFunction('convertToInteractive',\n",
              "                                                     [key], {});\n",
              "          if (!dataTable) return;\n",
              "\n",
              "          const docLinkHtml = 'Like what you see? Visit the ' +\n",
              "            '<a target=\"_blank\" href=https://colab.research.google.com/notebooks/data_table.ipynb>data table notebook</a>'\n",
              "            + ' to learn more about interactive tables.';\n",
              "          element.innerHTML = '';\n",
              "          dataTable['output_type'] = 'display_data';\n",
              "          await google.colab.output.renderOutput(dataTable, element);\n",
              "          const docLink = document.createElement('div');\n",
              "          docLink.innerHTML = docLinkHtml;\n",
              "          element.appendChild(docLink);\n",
              "        }\n",
              "      </script>\n",
              "    </div>\n",
              "  </div>\n",
              "  "
            ]
          },
          "metadata": {},
          "execution_count": 9
        }
      ]
    },
    {
      "cell_type": "code",
      "source": [
        "data.isnull().sum()"
      ],
      "metadata": {
        "colab": {
          "base_uri": "https://localhost:8080/"
        },
        "id": "HAvFpfwWPq3A",
        "outputId": "d04c0184-551f-4bdf-c5ed-5aef9df27421"
      },
      "execution_count": 10,
      "outputs": [
        {
          "output_type": "execute_result",
          "data": {
            "text/plain": [
              "episode_number              0\n",
              "startup_number              0\n",
              "brand_name                  0\n",
              "description                 0\n",
              "deal_offered                0\n",
              "startup_ask_amount_lakhs    0\n",
              "startup_ask_percentage      0\n",
              "startup_ask_valuation       0\n",
              "deal_amount_lakhs           0\n",
              "deal_equity                 0\n",
              "deal_valuation              0\n",
              "loan_element_present        0\n",
              "loan_amount                 0\n",
              "rannvijay_present           0\n",
              "abish_present               0\n",
              "aman_present                0\n",
              "aman_invested               0\n",
              "anupam_present              0\n",
              "anupam_invested             0\n",
              "ashneer_present             0\n",
              "ashneer_invested            0\n",
              "ghazal_present              0\n",
              "ghazal_invested             0\n",
              "namita_present              0\n",
              "namita_invested             0\n",
              "peyush_present              0\n",
              "peyush_invested             0\n",
              "vineeta_present             0\n",
              "vineeta_invested            0\n",
              "sharks_offering             0\n",
              "amount_per_shark            0\n",
              "equity_per_shark            0\n",
              "dtype: int64"
            ]
          },
          "metadata": {},
          "execution_count": 10
        }
      ]
    },
    {
      "cell_type": "code",
      "source": [
        "data['deal_offered'].value_counts()"
      ],
      "metadata": {
        "colab": {
          "base_uri": "https://localhost:8080/"
        },
        "id": "LtUwH3I1P0J5",
        "outputId": "e357bcfa-d761-4c9e-a8db-616463027f23"
      },
      "execution_count": 11,
      "outputs": [
        {
          "output_type": "execute_result",
          "data": {
            "text/plain": [
              "1    68\n",
              "0    53\n",
              "Name: deal_offered, dtype: int64"
            ]
          },
          "metadata": {},
          "execution_count": 11
        }
      ]
    },
    {
      "cell_type": "code",
      "source": [
        "data['aman_present'].value_counts()"
      ],
      "metadata": {
        "colab": {
          "base_uri": "https://localhost:8080/"
        },
        "id": "Twm3RfxtQeCO",
        "outputId": "61a1e5f3-085c-4eb1-e2fa-61339e55aef6"
      },
      "execution_count": 12,
      "outputs": [
        {
          "output_type": "execute_result",
          "data": {
            "text/plain": [
              "1    102\n",
              "0     19\n",
              "Name: aman_present, dtype: int64"
            ]
          },
          "metadata": {},
          "execution_count": 12
        }
      ]
    },
    {
      "cell_type": "code",
      "source": [
        "data['anupam_present'].value_counts()"
      ],
      "metadata": {
        "colab": {
          "base_uri": "https://localhost:8080/"
        },
        "id": "rja2_6kdQ5d4",
        "outputId": "58b3b68f-6c8c-43ed-86f7-26b740503a34"
      },
      "execution_count": 13,
      "outputs": [
        {
          "output_type": "execute_result",
          "data": {
            "text/plain": [
              "1    121\n",
              "Name: anupam_present, dtype: int64"
            ]
          },
          "metadata": {},
          "execution_count": 13
        }
      ]
    },
    {
      "cell_type": "code",
      "source": [
        "data['ashneer_present'].value_counts()"
      ],
      "metadata": {
        "colab": {
          "base_uri": "https://localhost:8080/"
        },
        "id": "a_TSrNMvRESx",
        "outputId": "eda7d497-388b-4e14-cc1d-e1163872be19"
      },
      "execution_count": 14,
      "outputs": [
        {
          "output_type": "execute_result",
          "data": {
            "text/plain": [
              "1    98\n",
              "0    23\n",
              "Name: ashneer_present, dtype: int64"
            ]
          },
          "metadata": {},
          "execution_count": 14
        }
      ]
    },
    {
      "cell_type": "code",
      "source": [
        "data['ghazal_present'].value_counts()"
      ],
      "metadata": {
        "colab": {
          "base_uri": "https://localhost:8080/"
        },
        "id": "3cBx-nCGRTty",
        "outputId": "0b516ef4-0b49-4dcf-ef73-385099ba4a53"
      },
      "execution_count": 15,
      "outputs": [
        {
          "output_type": "execute_result",
          "data": {
            "text/plain": [
              "0    95\n",
              "1    26\n",
              "Name: ghazal_present, dtype: int64"
            ]
          },
          "metadata": {},
          "execution_count": 15
        }
      ]
    },
    {
      "cell_type": "code",
      "source": [
        "data['namita_present'].value_counts()"
      ],
      "metadata": {
        "colab": {
          "base_uri": "https://localhost:8080/"
        },
        "id": "ghTBc9oNRuHL",
        "outputId": "a5e398c5-fb80-4e4f-b698-e075deba69da"
      },
      "execution_count": 16,
      "outputs": [
        {
          "output_type": "execute_result",
          "data": {
            "text/plain": [
              "1    110\n",
              "0     11\n",
              "Name: namita_present, dtype: int64"
            ]
          },
          "metadata": {},
          "execution_count": 16
        }
      ]
    },
    {
      "cell_type": "code",
      "source": [
        "data['peyush_present'].value_counts()"
      ],
      "metadata": {
        "colab": {
          "base_uri": "https://localhost:8080/"
        },
        "id": "z5B9_lsyRl9z",
        "outputId": "ac9efd55-27a2-42e9-fb24-a7aaa8cb00f6"
      },
      "execution_count": 17,
      "outputs": [
        {
          "output_type": "execute_result",
          "data": {
            "text/plain": [
              "1    92\n",
              "0    29\n",
              "Name: peyush_present, dtype: int64"
            ]
          },
          "metadata": {},
          "execution_count": 17
        }
      ]
    },
    {
      "cell_type": "code",
      "source": [
        "data['vineeta_present'].value_counts()"
      ],
      "metadata": {
        "colab": {
          "base_uri": "https://localhost:8080/"
        },
        "id": "ohpqKMXXT2C1",
        "outputId": "aed067f2-c8ce-4312-de00-5c64132f5e6b"
      },
      "execution_count": 18,
      "outputs": [
        {
          "output_type": "execute_result",
          "data": {
            "text/plain": [
              "1    70\n",
              "0    51\n",
              "Name: vineeta_present, dtype: int64"
            ]
          },
          "metadata": {},
          "execution_count": 18
        }
      ]
    },
    {
      "cell_type": "code",
      "source": [
        "aman_present=len(data[data.aman_present==1])\n",
        "anupam_present=len(data[data.anupam_present==1])\n",
        "ashneer_present=len(data[data.ashneer_present==1])\n",
        "ghazal_present=len(data[data.ghazal_present==1])\n",
        "namita_present=len(data[data.namita_present==1])\n",
        "peyush_present=len(data[data.peyush_present==1])\n",
        "vineeta_present=len(data[data.vineeta_present==1])"
      ],
      "metadata": {
        "id": "6Qn3azx_R80d"
      },
      "execution_count": 19,
      "outputs": []
    },
    {
      "cell_type": "code",
      "source": [
        "fig =plt.figure(figsize=(10,5))\n",
        "present=[aman_present,anupam_present,ashneer_present,ghazal_present,namita_present,peyush_present,vineeta_present]\n",
        "names=['Aman','Anupam','Ashneer','Ghazal','Namita','Peyush','Vineeta']\n",
        "plt.bar(names,present,color='blue',width=0.5)\n",
        "plt.xlabel(\"Candidate Name\")\n",
        "plt.ylabel(\"Candidate Present\")\n",
        "plt.title(\"Candidate Present vs Name\")\n",
        "plt.show()"
      ],
      "metadata": {
        "colab": {
          "base_uri": "https://localhost:8080/",
          "height": 350
        },
        "id": "HNCxjM1BS7dp",
        "outputId": "f8667c0f-2c86-44d3-dfbf-356362087a72"
      },
      "execution_count": 20,
      "outputs": [
        {
          "output_type": "display_data",
          "data": {
            "text/plain": [
              "<Figure size 720x360 with 1 Axes>"
            ],
            "image/png": "[encoded data removed]"
          },
          "metadata": {
            "needs_background": "light"
          }
        }
      ]
    },
    {
      "cell_type": "code",
      "source": [
        ""
      ],
      "metadata": {
        "id": "7qccSXYnh6FL"
      },
      "execution_count": 20,
      "outputs": []
    },
    {
      "cell_type": "code",
      "source": [
        "plt.pie(present,labels=names,radius=2.5,autopct='%0.1f%%',\n",
        "        explode=[0.25,0.25,0.25,0.25,0.25,0.25,0.25])\n",
        "plt.show()"
      ],
      "metadata": {
        "colab": {
          "base_uri": "https://localhost:8080/",
          "height": 542
        },
        "id": "tKoWSvslX49B",
        "outputId": "d67695e1-ef7a-433d-848e-292fdd284241"
      },
      "execution_count": 21,
      "outputs": [
        {
          "output_type": "display_data",
          "data": {
            "text/plain": [
              "<Figure size 432x288 with 1 Axes>"
            ],
            "image/png": "[encoded data removed]"
          },
          "metadata": {}
        }
      ]
    },
    {
      "cell_type": "code",
      "source": [
        "data['aman_invested'].value_counts()"
      ],
      "metadata": {
        "colab": {
          "base_uri": "https://localhost:8080/"
        },
        "id": "oE38TusuZsJh",
        "outputId": "c44825bf-6312-4d0b-e8d7-84fd2b0c65b9"
      },
      "execution_count": 22,
      "outputs": [
        {
          "output_type": "execute_result",
          "data": {
            "text/plain": [
              "0    92\n",
              "1    29\n",
              "Name: aman_invested, dtype: int64"
            ]
          },
          "metadata": {},
          "execution_count": 22
        }
      ]
    },
    {
      "cell_type": "code",
      "source": [
        "data['anupam_invested'].value_counts()"
      ],
      "metadata": {
        "colab": {
          "base_uri": "https://localhost:8080/"
        },
        "id": "ISzOM5ovZ1V-",
        "outputId": "0a53a8d5-291c-4f53-a668-b1bc74a6592b"
      },
      "execution_count": 23,
      "outputs": [
        {
          "output_type": "execute_result",
          "data": {
            "text/plain": [
              "0    97\n",
              "1    24\n",
              "Name: anupam_invested, dtype: int64"
            ]
          },
          "metadata": {},
          "execution_count": 23
        }
      ]
    },
    {
      "cell_type": "code",
      "source": [
        "data['ashneer_invested'].value_counts()"
      ],
      "metadata": {
        "colab": {
          "base_uri": "https://localhost:8080/"
        },
        "id": "eBLyeVisZ4kt",
        "outputId": "dbaa7a25-d3b5-462c-8ac8-d8acfd3809a2"
      },
      "execution_count": 24,
      "outputs": [
        {
          "output_type": "execute_result",
          "data": {
            "text/plain": [
              "0    100\n",
              "1     21\n",
              "Name: ashneer_invested, dtype: int64"
            ]
          },
          "metadata": {},
          "execution_count": 24
        }
      ]
    },
    {
      "cell_type": "code",
      "source": [
        "data['ghazal_invested'].value_counts()"
      ],
      "metadata": {
        "colab": {
          "base_uri": "https://localhost:8080/"
        },
        "id": "2tVDcBsAZ7-B",
        "outputId": "1241d621-0a30-49b8-eae2-33f548f6a810"
      },
      "execution_count": 25,
      "outputs": [
        {
          "output_type": "execute_result",
          "data": {
            "text/plain": [
              "0    114\n",
              "1      7\n",
              "Name: ghazal_invested, dtype: int64"
            ]
          },
          "metadata": {},
          "execution_count": 25
        }
      ]
    },
    {
      "cell_type": "code",
      "source": [
        "data['namita_invested'].value_counts()"
      ],
      "metadata": {
        "colab": {
          "base_uri": "https://localhost:8080/"
        },
        "id": "Jf2li_O4aBkc",
        "outputId": "19e999d1-4613-476c-8648-938f42b8cc2f"
      },
      "execution_count": 26,
      "outputs": [
        {
          "output_type": "execute_result",
          "data": {
            "text/plain": [
              "0    97\n",
              "1    24\n",
              "Name: namita_invested, dtype: int64"
            ]
          },
          "metadata": {},
          "execution_count": 26
        }
      ]
    },
    {
      "cell_type": "code",
      "source": [
        "data['peyush_invested'].value_counts()"
      ],
      "metadata": {
        "colab": {
          "base_uri": "https://localhost:8080/"
        },
        "id": "OGgPJzdxaNV0",
        "outputId": "2c341369-9d2b-4c36-c969-2c5e29d7518b"
      },
      "execution_count": 27,
      "outputs": [
        {
          "output_type": "execute_result",
          "data": {
            "text/plain": [
              "0    93\n",
              "1    28\n",
              "Name: peyush_invested, dtype: int64"
            ]
          },
          "metadata": {},
          "execution_count": 27
        }
      ]
    },
    {
      "cell_type": "code",
      "source": [
        "data['vineeta_invested'].value_counts()"
      ],
      "metadata": {
        "colab": {
          "base_uri": "https://localhost:8080/"
        },
        "id": "e9zpSzrHawpH",
        "outputId": "47eb34f7-9ce6-4f8a-a5da-297d87084ce2"
      },
      "execution_count": 28,
      "outputs": [
        {
          "output_type": "execute_result",
          "data": {
            "text/plain": [
              "0    105\n",
              "1     16\n",
              "Name: vineeta_invested, dtype: int64"
            ]
          },
          "metadata": {},
          "execution_count": 28
        }
      ]
    },
    {
      "cell_type": "code",
      "source": [
        "aman_invested=len(data[data.aman_invested==1])\n",
        "anupam_invested=len(data[data.anupam_invested==1])\n",
        "ashneer_invested=len(data[data.ashneer_invested==1])\n",
        "ghazal_invested=len(data[data.ghazal_invested==1])\n",
        "namita_invested=len(data[data.namita_invested==1])\n",
        "peyush_invested=len(data[data.peyush_invested==1])\n",
        "vineeta_invested=len(data[data.vineeta_invested==1])"
      ],
      "metadata": {
        "id": "n9q0gTzVbFg4"
      },
      "execution_count": 29,
      "outputs": []
    },
    {
      "cell_type": "code",
      "source": [
        "fig =plt.figure(figsize=(10,5))\n",
        "invested=[aman_invested,anupam_invested,ashneer_invested,ghazal_invested,namita_invested,peyush_invested,vineeta_invested]\n",
        "names=['Aman','Anupam','Ashneer','Ghazal','Namita','Peyush','Vineeta']\n",
        "plt.bar(names,invested,color='yellow',width=0.5)\n",
        "plt.xlabel(\"Candidate Name\")\n",
        "plt.ylabel(\"Candidate Invested\")\n",
        "plt.title(\"Candidate Invested vs Name\")\n",
        "plt.show()"
      ],
      "metadata": {
        "colab": {
          "base_uri": "https://localhost:8080/",
          "height": 350
        },
        "id": "egjnR-iscCKz",
        "outputId": "0e49fccb-bf8c-4d08-85d3-fe5168925a8a"
      },
      "execution_count": 30,
      "outputs": [
        {
          "output_type": "display_data",
          "data": {
            "text/plain": [
              "<Figure size 720x360 with 1 Axes>"
            ],
            "image/png": "[encoded data removed]"
          },
          "metadata": {
            "needs_background": "light"
          }
        }
      ]
    },
    {
      "cell_type": "code",
      "source": [
        "plt.pie(invested,labels=names,radius=2.5,autopct='%0.1f%%',\n",
        "        explode=[0.25,0.25,0.25,0.25,0.25,0.25,0.25])\n",
        "plt.show()"
      ],
      "metadata": {
        "colab": {
          "base_uri": "https://localhost:8080/",
          "height": 547
        },
        "id": "SDvwMqSHdXrn",
        "outputId": "6eddc0be-983b-47ea-f2f9-61bae62ea129"
      },
      "execution_count": 31,
      "outputs": [
        {
          "output_type": "display_data",
          "data": {
            "text/plain": [
              "<Figure size 432x288 with 1 Axes>"
            ],
            "image/png": "[encoded data removed]"
          },
          "metadata": {}
        }
      ]
    },
    {
      "cell_type": "code",
      "source": [
        "aman_percent=(aman_invested/aman_present)*100\n",
        "anupam_percent=(anupam_invested/anupam_present)*100\n",
        "ashneer_percent=(ashneer_invested/ashneer_present)*100\n",
        "ghazal_percent=(ghazal_invested/ghazal_present)*100\n",
        "namita_percent=(namita_invested/namita_present)*100\n",
        "peyush_percent=(peyush_invested/peyush_present)*100\n",
        "vineeta_percent=(vineeta_invested/vineeta_present)*100\n"
      ],
      "metadata": {
        "id": "hqY3ORtHeK0B"
      },
      "execution_count": 32,
      "outputs": []
    },
    {
      "cell_type": "code",
      "source": [
        "fig =plt.figure(figsize=(10,5))\n",
        "percentage=[aman_percent,anupam_percent,ashneer_percent,ghazal_percent,namita_percent,peyush_percent,vineeta_percent]\n",
        "names=['Aman','Anupam','Ashneer','Ghazal','Namita','Peyush','Vineeta']\n",
        "plt.bar(names,percentage,color='blue',width=0.5)\n",
        "plt.xlabel(\"Candidate Name\")\n",
        "plt.ylabel(\"Candidate Invested - Percentage\")\n",
        "plt.title(\"Candidate Invested - Percentage vs Name\")\n",
        "plt.show()"
      ],
      "metadata": {
        "colab": {
          "base_uri": "https://localhost:8080/",
          "height": 350
        },
        "id": "NFQXutgPfE_z",
        "outputId": "66f1f4ef-22c2-44b1-9137-d7a3b3d135a3"
      },
      "execution_count": 33,
      "outputs": [
        {
          "output_type": "display_data",
          "data": {
            "text/plain": [
              "<Figure size 720x360 with 1 Axes>"
            ],
            "image/png": "[encoded data removed]"
          },
          "metadata": {
            "needs_background": "light"
          }
        }
      ]
    },
    {
      "cell_type": "code",
      "source": [
        "plt.pie(percentage,labels=names,radius=2.5,autopct='%0.1f%%',\n",
        "        explode=[0.25,0.25,0.25,0.25,0.25,0.25,0.25])\n",
        "plt.show()"
      ],
      "metadata": {
        "colab": {
          "base_uri": "https://localhost:8080/",
          "height": 555
        },
        "id": "1gLlgt2Kf-oN",
        "outputId": "a2575817-cebe-40ff-957c-ed18e361a844"
      },
      "execution_count": 34,
      "outputs": [
        {
          "output_type": "display_data",
          "data": {
            "text/plain": [
              "<Figure size 432x288 with 1 Axes>"
            ],
            "image/png": "[encoded data removed]"
          },
          "metadata": {}
        }
      ]
    }
  ]
}